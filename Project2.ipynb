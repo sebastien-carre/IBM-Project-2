{
 "cells": [
  {
   "cell_type": "markdown",
   "metadata": {},
   "source": [
    "# My Jupyter Notebook on IBM Watson Studio"
   ]
  },
  {
   "cell_type": "markdown",
   "metadata": {},
   "source": [
    "**Sebastien Carre**  \n",
    "data scientist"
   ]
  },
  {
   "cell_type": "markdown",
   "metadata": {},
   "source": [
    "*I am interested in data science because i love data, charts and doing models.*"
   ]
  },
  {
   "cell_type": "markdown",
   "metadata": {},
   "source": [
    "This code does the calculation : (2+1)*3"
   ]
  },
  {
   "cell_type": "code",
   "execution_count": 4,
   "metadata": {},
   "outputs": [
    {
     "data": {
      "text/plain": [
       "9"
      ]
     },
     "execution_count": 4,
     "metadata": {},
     "output_type": "execute_result"
    }
   ],
   "source": [
    "(2+1)*3"
   ]
  },
  {
   "cell_type": "markdown",
   "metadata": {},
   "source": [
    "horizontal rule :\n",
    "\n",
    "---\n",
    "\n",
    "bulleted list :\n",
    "* first\n",
    "* second\n",
    "* third\n",
    "\n",
    "\n",
    "numbered list :\n",
    "1. first\n",
    "2. second\n",
    "3. third\n",
    "\n",
    "\n",
    "hyperlinks :  \n",
    "\n",
    "Follow this link: https://www.ibm.com/"
   ]
  }
 ],
 "metadata": {
  "kernelspec": {
   "display_name": "Python 3.10.4 64-bit",
   "language": "python",
   "name": "python3"
  },
  "language_info": {
   "codemirror_mode": {
    "name": "ipython",
    "version": 3
   },
   "file_extension": ".py",
   "mimetype": "text/x-python",
   "name": "python",
   "nbconvert_exporter": "python",
   "pygments_lexer": "ipython3",
   "version": "3.10.4"
  },
  "orig_nbformat": 4,
  "vscode": {
   "interpreter": {
    "hash": "8dfa99f3af83d85bf789357e6ef788e9f2a5b9223a8c6066ce9fc7dc407efb92"
   }
  }
 },
 "nbformat": 4,
 "nbformat_minor": 2
}
